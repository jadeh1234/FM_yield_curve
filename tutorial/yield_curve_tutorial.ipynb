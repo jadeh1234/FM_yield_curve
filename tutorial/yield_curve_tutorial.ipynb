{
 "cells": [
  {
   "cell_type": "markdown",
   "id": "f8e68ff7",
   "metadata": {},
   "source": [
    "---\n",
    "# Tutorial Task: Create a Forward Bank Bill Class #\n",
    "---\n",
    "In this tutorial, you will use the Bank Bill and Bond classes to create a Forward Bank Bill class.\n",
    "\n",
    "### Step 1:\n",
    "\n",
    "Create some bank bill and bond instruments.\n",
    "\n",
    "### Step 2:\n",
    "\n",
    "Create a yield curve using these instruments.\n",
    "\n",
    "### Step 3:\n",
    "\n",
    "Design a new Forward Bank Bill class which inherits from the Bank Bill class and uses the yield curve to give an arbitrage-free yield.\n",
    "\n",
    "---\n",
    "\n",
    "## Refresher on Classes\n",
    "\n",
    "### What is a Class\n",
    "In programming, a class is a way to organize and group data and functions together into a single unit by describing:\n",
    "\n",
    "- What information the thing should have (its properties)\n",
    "\n",
    "- What actions the thing should be able to do (its behavior)\n",
    "\n",
    "The information inside a class is called attributes , and the actions are called methods (which are just functions inside the class).\n",
    "\n",
    "Once you define a class, you can create multiple objects from it.\n",
    "Each object will have its own copy of the attributes and will be able to use the methods.\n",
    "\n",
    "This process of making an object from a class is called instantiation, and the object is called an instance of the class.\n",
    "\n",
    "### Inheritance\n",
    "Inheritance is when a new class automatically gets the attributes and methods from an existing class.\n",
    "\n",
    "The class you start from is called the parent class (or superclass).\n",
    "The new class you make is called the child class (or subclass).\n",
    "\n",
    "The child class inherits everything from the parent class and can:\n",
    "\n",
    "- Use everything the parent already has\n",
    "\n",
    "- Add new things of its own\n",
    "\n",
    "- Change (override) things if needed\n",
    "\n",
    "\n",
    "---"
   ]
  },
  {
   "cell_type": "markdown",
   "id": "7d1c4eb1",
   "metadata": {},
   "source": [
    "### Step 0:\n",
    "\n",
    "Import pre-existing classes"
   ]
  },
  {
   "cell_type": "code",
   "execution_count": 1,
   "id": "a29772d4",
   "metadata": {},
   "outputs": [],
   "source": [
    "import sys\n",
    "sys.path.append('..')  # Add the parent directory to the system path\n",
    "from instrument_classes import Bank_bill, Bond, Portfolio\n",
    "from curve_classes_and_functions import ZeroCurve, YieldCurve"
   ]
  },
  {
   "cell_type": "markdown",
   "id": "d0bfc6af",
   "metadata": {},
   "source": [
    "---\n",
    "\n",
    "### Step 1:\n",
    "\n",
    "Let's define a few bank bills and bonds."
   ]
  },
  {
   "cell_type": "code",
   "execution_count": 2,
   "id": "1ec7098e",
   "metadata": {},
   "outputs": [],
   "source": [
    "#we have created bank bills and bonds using classes"
   ]
  },
  {
   "cell_type": "code",
   "execution_count": 3,
   "id": "2e44d198",
   "metadata": {},
   "outputs": [],
   "source": [
    "bill1 = Bank_bill()\n",
    "bill1.set_ytm(0.06)\n",
    "bill1.set_cash_flows()"
   ]
  },
  {
   "cell_type": "code",
   "execution_count": 4,
   "id": "c9b4c38b",
   "metadata": {},
   "outputs": [
    {
     "data": {
      "text/plain": [
       "98.52216748768474"
      ]
     },
     "execution_count": 4,
     "metadata": {},
     "output_type": "execute_result"
    }
   ],
   "source": [
    "bill1.get_price()"
   ]
  },
  {
   "cell_type": "code",
   "execution_count": 5,
   "id": "80ab69a2",
   "metadata": {},
   "outputs": [],
   "source": [
    "bill2 = Bank_bill(maturity=0.5)\n",
    "bill2.set_ytm(0.065)\n",
    "bill2.set_cash_flows()"
   ]
  },
  {
   "cell_type": "code",
   "execution_count": 6,
   "id": "f8be0a34",
   "metadata": {},
   "outputs": [],
   "source": [
    "bond1 = Bond(face_value=100,maturity=1,coupon=0.05,frequency=2)\n",
    "bond1.set_ytm(0.07)\n",
    "bond1.set_cash_flows()"
   ]
  },
  {
   "cell_type": "code",
   "execution_count": 7,
   "id": "4ffef638",
   "metadata": {},
   "outputs": [],
   "source": [
    "bond2 = Bond(face_value=100,maturity=2,coupon=0.06,frequency=1)\n",
    "bond2.set_ytm(0.075)\n",
    "bond2.set_cash_flows()"
   ]
  },
  {
   "cell_type": "markdown",
   "id": "e29d39c3",
   "metadata": {},
   "source": [
    "---\n",
    "\n",
    "### Step 2:\n",
    "\n",
    "Now we can use the Portfolio class to aggregate the instruments that we have created. Then we pass the portfolio to the YieldCurve class to bootstrap a yield curve."
   ]
  },
  {
   "cell_type": "code",
   "execution_count": 8,
   "id": "3ae0c648",
   "metadata": {},
   "outputs": [],
   "source": [
    "#Create portfolio class\n",
    "portfolio = Portfolio()\n",
    "portfolio.add_bank_bill(bill1)\n",
    "portfolio.add_bank_bill(bill2)\n",
    "portfolio.add_bond(bond1)\n",
    "portfolio.add_bond(bond2)\n",
    "portfolio.set_cash_flows()"
   ]
  },
  {
   "cell_type": "code",
   "execution_count": 9,
   "id": "81c872dc",
   "metadata": {},
   "outputs": [
    {
     "data": {
      "text/plain": [
       "[<instrument_classes.Bond at 0x74bba8090f20>,\n",
       " <instrument_classes.Bond at 0x74bba849e630>]"
      ]
     },
     "execution_count": 9,
     "metadata": {},
     "output_type": "execute_result"
    }
   ],
   "source": [
    "portfolio.get_bonds()"
   ]
  },
  {
   "cell_type": "code",
   "execution_count": 10,
   "id": "c31aa5d9",
   "metadata": {},
   "outputs": [
    {
     "data": {
      "text/plain": [
       "[<instrument_classes.Bank_bill at 0x74bb901fd1f0>,\n",
       " <instrument_classes.Bank_bill at 0x74bb901fcda0>]"
      ]
     },
     "execution_count": 10,
     "metadata": {},
     "output_type": "execute_result"
    }
   ],
   "source": [
    "portfolio.get_bank_bills()"
   ]
  },
  {
   "cell_type": "code",
   "execution_count": 11,
   "id": "16824a35",
   "metadata": {},
   "outputs": [
    {
     "name": "stdout",
     "output_type": "stream",
     "text": [
      "PV of all the cashflows except maturity is:  2.4213075060532687\n",
      "The bond price is:  98.10030572475438\n",
      "The last cashflow is:  102.5\n",
      "PV of all the cashflows except maturity is:  5.600721846948358\n",
      "The bond price is:  97.30665224445646\n",
      "The last cashflow is:  106.0\n"
     ]
    }
   ],
   "source": [
    "#build yield curve based on maturities and associated rate of return\n",
    "yc = YieldCurve()\n",
    "yc.set_constituent_portfolio(portfolio)\n",
    "yc.bootstrap()"
   ]
  },
  {
   "cell_type": "code",
   "execution_count": 12,
   "id": "6980f523",
   "metadata": {},
   "outputs": [
    {
     "data": {
      "text/plain": [
       "([0, 0.25, 0.5, 1, 2],\n",
       " [1.0,\n",
       "  0.9852216748768474,\n",
       "  0.9685230024213075,\n",
       "  0.9334536411580596,\n",
       "  0.8651502867689443])"
      ]
     },
     "execution_count": 12,
     "metadata": {},
     "output_type": "execute_result"
    }
   ],
   "source": [
    "yc.get_zero_curve()"
   ]
  },
  {
   "cell_type": "code",
   "execution_count": 13,
   "id": "22883197",
   "metadata": {},
   "outputs": [
    {
     "data": {
      "text/plain": [
       "-5.972513564315916"
      ]
     },
     "execution_count": 13,
     "metadata": {},
     "output_type": "execute_result"
    }
   ],
   "source": [
    "yc.npv(portfolio)"
   ]
  },
  {
   "cell_type": "markdown",
   "id": "db1c8205",
   "metadata": {},
   "source": [
    "---\n",
    "\n",
    "### Step 3:\n",
    "\n",
    "Now let's try creating our own class. This will be a Forward Bank Bill class, and will have the ability to price a forward bank bill."
   ]
  },
  {
   "cell_type": "code",
   "execution_count": 14,
   "id": "95e95e4d",
   "metadata": {},
   "outputs": [],
   "source": [
    "class ForwardBankBill(Bank_bill):\n",
    "    \"\"\"\n",
    "    Forward on a bank bill starting in T1 and maturing at T2\n",
    "    \"\"\"\n",
    "\n",
    "    def __init__(self, start, maturity, face_value=100):\n",
    "        super().__init__(face_value=face_value,ytm=0.0, price=0.0)\n",
    "        self.start = start\n",
    "        self.maturity = maturity\n",
    "        self.term = maturity - start\n",
    "        self.price = None\n",
    "        self.ytm = None\n",
    "\n",
    "    # 1. Determining cash flows\n",
    "    def set_cash_flows(self):\n",
    "        self.add_cash_flow(self.start, -self.price)\n",
    "        self.add_cash_flow(self.maturity, self.face_value)\n",
    "\n",
    "    # 2. Determine the price and ytm\n",
    "    def set_fair_yield(self, yield_curve):\n",
    "        df1 = yield_curve.get_discount_factor(self.start)\n",
    "        df2 = yield_curve.get_discount_factor(self.maturity)\n",
    "\n",
    "        self.price = self.face_value * (df2/df1)\n",
    "        self.ytm = (self.face_value - self.price) / (self.face_value * self.term)\n",
    "\n",
    "    def get_price(self):\n",
    "        return self.price\n",
    "    \n",
    "    def get_yield(self):\n",
    "        return self.ytm"
   ]
  },
  {
   "cell_type": "code",
   "execution_count": 15,
   "id": "06ab653b",
   "metadata": {},
   "outputs": [],
   "source": [
    "fwd = ForwardBankBill(start=0.5, maturity=0.75, face_value=100)\n",
    "fwd.set_fair_yield(yc)\n",
    "fwd.set_cash_flows()"
   ]
  },
  {
   "cell_type": "code",
   "execution_count": 16,
   "id": "549d0301",
   "metadata": {},
   "outputs": [
    {
     "data": {
      "text/plain": [
       "np.float64(98.17285187340218)"
      ]
     },
     "execution_count": 16,
     "metadata": {},
     "output_type": "execute_result"
    }
   ],
   "source": [
    "fwd.get_price()"
   ]
  },
  {
   "cell_type": "code",
   "execution_count": 17,
   "id": "b440b1fc",
   "metadata": {},
   "outputs": [
    {
     "data": {
      "text/plain": [
       "np.float64(0.07308592506391279)"
      ]
     },
     "execution_count": 17,
     "metadata": {},
     "output_type": "execute_result"
    }
   ],
   "source": [
    "fwd.get_yield()"
   ]
  }
 ],
 "metadata": {
  "kernelspec": {
   "display_name": "Python 3",
   "language": "python",
   "name": "python3"
  },
  "language_info": {
   "codemirror_mode": {
    "name": "ipython",
    "version": 3
   },
   "file_extension": ".py",
   "mimetype": "text/x-python",
   "name": "python",
   "nbconvert_exporter": "python",
   "pygments_lexer": "ipython3",
   "version": "3.12.1"
  }
 },
 "nbformat": 4,
 "nbformat_minor": 5
}
